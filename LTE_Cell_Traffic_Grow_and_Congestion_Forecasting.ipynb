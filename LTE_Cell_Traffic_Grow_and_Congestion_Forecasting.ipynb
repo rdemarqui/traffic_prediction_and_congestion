{
  "nbformat": 4,
  "nbformat_minor": 0,
  "metadata": {
    "colab": {
      "name": "LTE Cell Traffic Grow and Congestion Forecasting.ipynb",
      "provenance": [],
      "toc_visible": true,
      "include_colab_link": true
    },
    "kernelspec": {
      "name": "python3",
      "display_name": "Python 3"
    },
    "language_info": {
      "name": "python"
    }
  },
  "cells": [
    {
      "cell_type": "markdown",
      "metadata": {
        "id": "view-in-github",
        "colab_type": "text"
      },
      "source": [
        "<a href=\"https://colab.research.google.com/github/rdemarqui/traffic_prediction_and_congestion/blob/main/LTE_Cell_Traffic_Grow_and_Congestion_Forecasting.ipynb\" target=\"_parent\"><img src=\"https://colab.research.google.com/assets/colab-badge.svg\" alt=\"Open In Colab\"/></a>"
      ]
    },
    {
      "cell_type": "markdown",
      "source": [
        "# LTE Cell Traffic Grow and Congestion Forecasting"
      ],
      "metadata": {
        "id": "4iBCys5kiCn7"
      }
    },
    {
      "cell_type": "markdown",
      "source": [
        "## I. Introduction"
      ],
      "metadata": {
        "id": "nWBgg9WHoDuJ"
      }
    },
    {
      "cell_type": "markdown",
      "source": [
        "This code was writen based on paper:\n",
        "* D. Chmieliauskas and D. Guršnys, \"LTE Cell Traffic Grow and Congestion Forecasting,\" 2019 Open Conference of Electrical, Electronic and Information Sciences (eStream), 2019, pp. 1-5, doi: 10.1109/eStream.2019.8732145. PDF found on: https://www.researchgate.net/publication/345446849_LTE_Cell_Traffic_Grow_and_Congestion_Forecasting\n",
        "\n",
        "The purpose of this work was to provide a replicable code for the [paperswithcode.com](https://paperswithcode.com/). For more details, go to: https://paperswithcode.com/paper/lte-cell-traffic-grow-and-congestion.\n",
        "\n",
        "**Notes:**\n",
        "1. The study and data cleaning steps are beyond the scope of this work, being done beforehand and omitted from the code.\n",
        "2. The results shown in this work were obtained using real data from a cellular network, but due to compliance reasons, these data can't be shared.\n",
        "3. There are some differences between the method proposed by the authors and this work. This may have occurred due to lack of information in the paper or our judgment that the changes could obtain better accuracy. In any case, these differences were mentioned throughout the code."
      ],
      "metadata": {
        "id": "xNKvU8yDk78S"
      }
    },
    {
      "cell_type": "code",
      "source": [
        "import pandas as pd\n",
        "from scipy import stats\n",
        "from sklearn import metrics\n",
        "from datetime import datetime, timedelta\n",
        "from itertools import cycle\n",
        "import numpy as np\n",
        "import matplotlib.pyplot as plt\n",
        "import seaborn as sns\n",
        "plt.rcParams[\"figure.figsize\"] = (8,5)\n",
        "\n",
        "from fbprophet import Prophet"
      ],
      "metadata": {
        "id": "YWT73XAEiZnH"
      },
      "execution_count": null,
      "outputs": []
    },
    {
      "cell_type": "markdown",
      "source": [
        "### Data Transform"
      ],
      "metadata": {
        "id": "R_c-jLp_S6rX"
      }
    },
    {
      "cell_type": "markdown",
      "source": [
        "The paper does not mention any form of data normalization, but in our studies we've seen that the Prophet achieve better accuracy when we apply the Box-Cox method for this solution."
      ],
      "metadata": {
        "id": "J1CWPS_1CX_m"
      }
    },
    {
      "cell_type": "code",
      "source": [
        "# Creating inverse Box-Cox\n",
        "def inverse_boxcox(y, lambda_):\n",
        "    return np.exp(y) if lambda_ == 0 else np.exp(np.log(lambda_ * y + 1) / lambda_)"
      ],
      "metadata": {
        "id": "t8UJgaURLTr0"
      },
      "execution_count": null,
      "outputs": []
    },
    {
      "cell_type": "markdown",
      "source": [
        "### Evaluation Metrics"
      ],
      "metadata": {
        "id": "k1XHAgx9Pkv-"
      }
    },
    {
      "cell_type": "markdown",
      "source": [
        "As evaluation metrics, the authors worked with:\n",
        "* Explained Variance Score\n",
        "* R² Score\n",
        "* Mean Average Percentage Error (MAPE)\n",
        "\n",
        "Despite being widely used, the MAPE metric has several flaws, among them the high sensitivity to outliers, which are frequently found in the data of our study. For this reason, we will use SMAPE instead, which is a slightly more robust metric. For more details, see the work of Chris Tofallis in the study entitled \"*A better measure of relative prediction accuracy for model selection and model estimation*\"."
      ],
      "metadata": {
        "id": "fJtwZJU3QENv"
      }
    },
    {
      "cell_type": "code",
      "source": [
        "def smape_metric(y_true, y_pred):\n",
        "  smape = 1/len(y_true) * np.sum(2 * np.abs(y_true-y_pred) / (np.abs(y_true) + np.abs(y_pred)))\n",
        "  return smape\n",
        "\n",
        "metric_cols = ['sMAPE', 'EVS', 'R2']\n",
        "\n",
        "def timeseries_evaluation_metrics_func(y_true, y_pred):\n",
        "  sMAPE = smape_metric(y_true, y_pred)\n",
        "  EVS = metrics.explained_variance_score(y_true, y_pred)\n",
        "  R2 = metrics.r2_score(y_true, y_pred)\n",
        "\n",
        "  return [sMAPE, EVS, R2]"
      ],
      "metadata": {
        "id": "iuae3_2BPgN-"
      },
      "execution_count": null,
      "outputs": []
    },
    {
      "cell_type": "markdown",
      "source": [
        "## II. Total Daily Traffic Forecasting"
      ],
      "metadata": {
        "id": "g-ZaLdLri1bR"
      }
    },
    {
      "cell_type": "markdown",
      "source": [
        "### Getting Data"
      ],
      "metadata": {
        "id": "mbgo2aHtVAej"
      }
    },
    {
      "cell_type": "markdown",
      "source": [
        "**Note:** In the original paper authors used 180 days, where 5 months was used for training and one month for forecast testing. In this work we used 1.5 years for training, mantaining 28 days for forecast testing. By doing this, we can take advantage of the annual seasonality, not originally used by the authors."
      ],
      "metadata": {
        "id": "ljGVPlVUv_qG"
      }
    },
    {
      "cell_type": "code",
      "source": [
        "# Opening daily cell data\n",
        "daily_traffic = pd.read_csv('df_daily.csv', sep=';')\n",
        "daily_traffic.head(10)"
      ],
      "metadata": {
        "id": "ej3W5M31jAI3",
        "colab": {
          "base_uri": "https://localhost:8080/",
          "height": 363
        },
        "outputId": "dff5128f-5911-4d49-c5dc-f91fc95000cf"
      },
      "execution_count": null,
      "outputs": [
        {
          "output_type": "execute_result",
          "data": {
            "text/plain": [
              "       Cell  Band(MHz)        Date   Data_Volume\n",
              "0  cell0001       1800  2019-01-01  9.406620e+06\n",
              "1  cell0001       1800  2019-01-02  3.229836e+06\n",
              "2  cell0001       1800  2019-01-03  5.869033e+06\n",
              "3  cell0001       1800  2019-01-04  6.525841e+06\n",
              "4  cell0001       1800  2019-01-05  7.415637e+06\n",
              "5  cell0001       1800  2019-01-06  1.244459e+07\n",
              "6  cell0001       1800  2019-01-07  1.201881e+07\n",
              "7  cell0001       1800  2019-01-08  1.411982e+07\n",
              "8  cell0001       1800  2019-01-09  1.780909e+07\n",
              "9  cell0001       1800  2019-01-10  1.164014e+07"
            ],
            "text/html": [
              "\n",
              "  <div id=\"df-734ff40b-017f-422e-9d4a-bc11a366a3ae\">\n",
              "    <div class=\"colab-df-container\">\n",
              "      <div>\n",
              "<style scoped>\n",
              "    .dataframe tbody tr th:only-of-type {\n",
              "        vertical-align: middle;\n",
              "    }\n",
              "\n",
              "    .dataframe tbody tr th {\n",
              "        vertical-align: top;\n",
              "    }\n",
              "\n",
              "    .dataframe thead th {\n",
              "        text-align: right;\n",
              "    }\n",
              "</style>\n",
              "<table border=\"1\" class=\"dataframe\">\n",
              "  <thead>\n",
              "    <tr style=\"text-align: right;\">\n",
              "      <th></th>\n",
              "      <th>Cell</th>\n",
              "      <th>Band(MHz)</th>\n",
              "      <th>Date</th>\n",
              "      <th>Data_Volume</th>\n",
              "    </tr>\n",
              "  </thead>\n",
              "  <tbody>\n",
              "    <tr>\n",
              "      <th>0</th>\n",
              "      <td>cell0001</td>\n",
              "      <td>1800</td>\n",
              "      <td>2019-01-01</td>\n",
              "      <td>9.406620e+06</td>\n",
              "    </tr>\n",
              "    <tr>\n",
              "      <th>1</th>\n",
              "      <td>cell0001</td>\n",
              "      <td>1800</td>\n",
              "      <td>2019-01-02</td>\n",
              "      <td>3.229836e+06</td>\n",
              "    </tr>\n",
              "    <tr>\n",
              "      <th>2</th>\n",
              "      <td>cell0001</td>\n",
              "      <td>1800</td>\n",
              "      <td>2019-01-03</td>\n",
              "      <td>5.869033e+06</td>\n",
              "    </tr>\n",
              "    <tr>\n",
              "      <th>3</th>\n",
              "      <td>cell0001</td>\n",
              "      <td>1800</td>\n",
              "      <td>2019-01-04</td>\n",
              "      <td>6.525841e+06</td>\n",
              "    </tr>\n",
              "    <tr>\n",
              "      <th>4</th>\n",
              "      <td>cell0001</td>\n",
              "      <td>1800</td>\n",
              "      <td>2019-01-05</td>\n",
              "      <td>7.415637e+06</td>\n",
              "    </tr>\n",
              "    <tr>\n",
              "      <th>5</th>\n",
              "      <td>cell0001</td>\n",
              "      <td>1800</td>\n",
              "      <td>2019-01-06</td>\n",
              "      <td>1.244459e+07</td>\n",
              "    </tr>\n",
              "    <tr>\n",
              "      <th>6</th>\n",
              "      <td>cell0001</td>\n",
              "      <td>1800</td>\n",
              "      <td>2019-01-07</td>\n",
              "      <td>1.201881e+07</td>\n",
              "    </tr>\n",
              "    <tr>\n",
              "      <th>7</th>\n",
              "      <td>cell0001</td>\n",
              "      <td>1800</td>\n",
              "      <td>2019-01-08</td>\n",
              "      <td>1.411982e+07</td>\n",
              "    </tr>\n",
              "    <tr>\n",
              "      <th>8</th>\n",
              "      <td>cell0001</td>\n",
              "      <td>1800</td>\n",
              "      <td>2019-01-09</td>\n",
              "      <td>1.780909e+07</td>\n",
              "    </tr>\n",
              "    <tr>\n",
              "      <th>9</th>\n",
              "      <td>cell0001</td>\n",
              "      <td>1800</td>\n",
              "      <td>2019-01-10</td>\n",
              "      <td>1.164014e+07</td>\n",
              "    </tr>\n",
              "  </tbody>\n",
              "</table>\n",
              "</div>\n",
              "      <button class=\"colab-df-convert\" onclick=\"convertToInteractive('df-734ff40b-017f-422e-9d4a-bc11a366a3ae')\"\n",
              "              title=\"Convert this dataframe to an interactive table.\"\n",
              "              style=\"display:none;\">\n",
              "        \n",
              "  <svg xmlns=\"http://www.w3.org/2000/svg\" height=\"24px\"viewBox=\"0 0 24 24\"\n",
              "       width=\"24px\">\n",
              "    <path d=\"M0 0h24v24H0V0z\" fill=\"none\"/>\n",
              "    <path d=\"M18.56 5.44l.94 2.06.94-2.06 2.06-.94-2.06-.94-.94-2.06-.94 2.06-2.06.94zm-11 1L8.5 8.5l.94-2.06 2.06-.94-2.06-.94L8.5 2.5l-.94 2.06-2.06.94zm10 10l.94 2.06.94-2.06 2.06-.94-2.06-.94-.94-2.06-.94 2.06-2.06.94z\"/><path d=\"M17.41 7.96l-1.37-1.37c-.4-.4-.92-.59-1.43-.59-.52 0-1.04.2-1.43.59L10.3 9.45l-7.72 7.72c-.78.78-.78 2.05 0 2.83L4 21.41c.39.39.9.59 1.41.59.51 0 1.02-.2 1.41-.59l7.78-7.78 2.81-2.81c.8-.78.8-2.07 0-2.86zM5.41 20L4 18.59l7.72-7.72 1.47 1.35L5.41 20z\"/>\n",
              "  </svg>\n",
              "      </button>\n",
              "      \n",
              "  <style>\n",
              "    .colab-df-container {\n",
              "      display:flex;\n",
              "      flex-wrap:wrap;\n",
              "      gap: 12px;\n",
              "    }\n",
              "\n",
              "    .colab-df-convert {\n",
              "      background-color: #E8F0FE;\n",
              "      border: none;\n",
              "      border-radius: 50%;\n",
              "      cursor: pointer;\n",
              "      display: none;\n",
              "      fill: #1967D2;\n",
              "      height: 32px;\n",
              "      padding: 0 0 0 0;\n",
              "      width: 32px;\n",
              "    }\n",
              "\n",
              "    .colab-df-convert:hover {\n",
              "      background-color: #E2EBFA;\n",
              "      box-shadow: 0px 1px 2px rgba(60, 64, 67, 0.3), 0px 1px 3px 1px rgba(60, 64, 67, 0.15);\n",
              "      fill: #174EA6;\n",
              "    }\n",
              "\n",
              "    [theme=dark] .colab-df-convert {\n",
              "      background-color: #3B4455;\n",
              "      fill: #D2E3FC;\n",
              "    }\n",
              "\n",
              "    [theme=dark] .colab-df-convert:hover {\n",
              "      background-color: #434B5C;\n",
              "      box-shadow: 0px 1px 3px 1px rgba(0, 0, 0, 0.15);\n",
              "      filter: drop-shadow(0px 1px 2px rgba(0, 0, 0, 0.3));\n",
              "      fill: #FFFFFF;\n",
              "    }\n",
              "  </style>\n",
              "\n",
              "      <script>\n",
              "        const buttonEl =\n",
              "          document.querySelector('#df-734ff40b-017f-422e-9d4a-bc11a366a3ae button.colab-df-convert');\n",
              "        buttonEl.style.display =\n",
              "          google.colab.kernel.accessAllowed ? 'block' : 'none';\n",
              "\n",
              "        async function convertToInteractive(key) {\n",
              "          const element = document.querySelector('#df-734ff40b-017f-422e-9d4a-bc11a366a3ae');\n",
              "          const dataTable =\n",
              "            await google.colab.kernel.invokeFunction('convertToInteractive',\n",
              "                                                     [key], {});\n",
              "          if (!dataTable) return;\n",
              "\n",
              "          const docLinkHtml = 'Like what you see? Visit the ' +\n",
              "            '<a target=\"_blank\" href=https://colab.research.google.com/notebooks/data_table.ipynb>data table notebook</a>'\n",
              "            + ' to learn more about interactive tables.';\n",
              "          element.innerHTML = '';\n",
              "          dataTable['output_type'] = 'display_data';\n",
              "          await google.colab.output.renderOutput(dataTable, element);\n",
              "          const docLink = document.createElement('div');\n",
              "          docLink.innerHTML = docLinkHtml;\n",
              "          element.appendChild(docLink);\n",
              "        }\n",
              "      </script>\n",
              "    </div>\n",
              "  </div>\n",
              "  "
            ]
          },
          "metadata": {},
          "execution_count": 58
        }
      ]
    },
    {
      "cell_type": "code",
      "source": [
        "# Renaming columns for Prophet standard, where ds its the date\n",
        "# and y it's a target variable Data_Volume\n",
        "daily_traffic.columns = ['Cell', 'Band(MHz)', 'ds', 'y']\n",
        "daily_traffic['ds'] = pd.to_datetime(daily_traffic['ds'])"
      ],
      "metadata": {
        "id": "pDq85Q8jkKQi"
      },
      "execution_count": null,
      "outputs": []
    },
    {
      "cell_type": "code",
      "source": [
        "# Checking cell quantity and data range\n",
        "list_cells = daily_traffic.Cell.unique()\n",
        "print(f'Dataset have {len(list_cells)} unique cells',\n",
        "      f'with date between {min(daily_traffic.ds)} and {max(daily_traffic.ds)}.')"
      ],
      "metadata": {
        "colab": {
          "base_uri": "https://localhost:8080/"
        },
        "id": "B8v0FTx4jZBA",
        "outputId": "ccea31b1-4324-4cf3-fd06-d02d3c93ef9e"
      },
      "execution_count": null,
      "outputs": [
        {
          "output_type": "stream",
          "name": "stdout",
          "text": [
            "Dataset have 159 unique cells with date between 2019-01-01 00:00:00 and 2021-01-28 00:00:00.\n"
          ]
        }
      ]
    },
    {
      "cell_type": "code",
      "source": [
        "# Splitting dataset\n",
        "n_days_forecast = 28\n",
        "train_ini, train_end = '2019-01-01', '2020-07-01'\n",
        "val_ini, val_end = train_end, datetime.strptime(train_end, \"%Y-%m-%d\") + timedelta(days=n_days_forecast)\n",
        "\n",
        "df_daily_train = daily_traffic[(daily_traffic['ds'] >= train_ini) & (daily_traffic['ds'] < train_end)].copy()\n",
        "df_daily_val = daily_traffic[(daily_traffic['ds'] >= val_ini) & (daily_traffic['ds'] < val_end)].copy()"
      ],
      "metadata": {
        "id": "VdA0TMXu-S2m"
      },
      "execution_count": null,
      "outputs": []
    },
    {
      "cell_type": "markdown",
      "source": [
        "### Forecasting"
      ],
      "metadata": {
        "id": "9Ou00AYgVEYE"
      }
    },
    {
      "cell_type": "markdown",
      "source": [
        "**Note:** Authors do not make it clear whether they used the standard/automatic hyperparameters or whether they did tuning. In this work, we customized all the seasonality in order to get better performance. In this way it's possible to test several configurations and see which one performs best."
      ],
      "metadata": {
        "id": "csz38sgMwVIL"
      }
    },
    {
      "cell_type": "code",
      "source": [
        "# Parameters\n",
        "daily_params = [# Config01\n",
        "                [{'changepoint_prior_scale': 0.05},                                     # Trend sensibility\n",
        "                  {'fourier_order': 3, 'mode': 'multiplicative', 'prior_scale': 0.1},   # Weekly Hyperparameters\n",
        "                  {'fourier_order': 4, 'mode': 'additive', 'prior_scale': 1}],          # Yearly Hyperparameters\n",
        "\n",
        "                # Config02\n",
        "                [{'changepoint_prior_scale': 0.05},\n",
        "                  {'fourier_order': 3, 'mode': 'multiplicative', 'prior_scale': 0.05},\n",
        "                  {'fourier_order': 4, 'mode': 'additive', 'prior_scale': 1}],\n",
        "\n",
        "                # Config03\n",
        "                [{'changepoint_prior_scale': 0.05},\n",
        "                  {'fourier_order': 3, 'mode': 'multiplicative', 'prior_scale': 0.1},\n",
        "                  {'fourier_order': 4, 'mode': 'additive', 'prior_scale': 0.1}]\n",
        "]"
      ],
      "metadata": {
        "id": "aVK3uULk1yHt"
      },
      "execution_count": null,
      "outputs": []
    },
    {
      "cell_type": "code",
      "source": [
        "final_result_daily = pd.DataFrame()\n",
        "\n",
        "for cell in list_cells[:]:\n",
        "  #print(cell)\n",
        "  n_config = 1\n",
        "  # Filtering cell\n",
        "  df_train_temp = df_daily_train[df_daily_train['Cell']==cell].copy()\n",
        "  df_val_temp = df_daily_val[df_daily_val['Cell']==cell].copy()\n",
        "\n",
        "  # Applying Box-Cox\n",
        "  df_train_temp['y'], lambda_prophet = stats.boxcox(df_train_temp['y'])\n",
        "\n",
        "  # Executing all configurations\n",
        "  for params in daily_params:\n",
        "    config = 'conf_' + str(n_config).zfill(len(str(len(daily_params))))\n",
        "\n",
        "    # Instantiating the model\n",
        "    m = Prophet(yearly_seasonality=False,\n",
        "                weekly_seasonality=False,\n",
        "                daily_seasonality=False,\n",
        "                uncertainty_samples=0,      # Zeroed to speed up forecast\n",
        "                **params[0])\n",
        "\n",
        "    # Weekly seasonality\n",
        "    m.add_seasonality(name='weekly', period=7, **params[1])\n",
        "\n",
        "    # Yearly seasonality\n",
        "    m.add_seasonality(name='yearly', period=365.25, **params[2])\n",
        "\n",
        "    # Fit\n",
        "    m.fit(df_train_temp)\n",
        "\n",
        "    # Create future dataset\n",
        "    future = m.make_future_dataframe(n_days_forecast, freq='d')\n",
        "\n",
        "    # Forecast\n",
        "    forecast = m.predict(future)\n",
        "\n",
        "    # Applying inverse Box-Cox in forecast data\n",
        "    forecast['yhat'] = inverse_boxcox(forecast['yhat'], lambda_prophet)\n",
        "\n",
        "    # Insert config number\n",
        "    forecast['configuration'] = config\n",
        "\n",
        "    # Mergin forecasted and actual data\n",
        "    temp_result_daily = pd.merge(df_val_temp,\n",
        "                                 forecast[['ds', 'yhat', 'configuration']],\n",
        "                                 left_on='ds',\n",
        "                                 right_on='ds',\n",
        "                                 how='inner')\n",
        "\n",
        "    final_result_daily = pd.concat([final_result_daily, temp_result_daily])\n",
        "\n",
        "    n_config += 1"
      ],
      "metadata": {
        "id": "U1UBgMpWVY7V"
      },
      "execution_count": null,
      "outputs": []
    },
    {
      "cell_type": "markdown",
      "source": [
        "### Evaluating"
      ],
      "metadata": {
        "id": "hebcqhW8VTuF"
      }
    },
    {
      "cell_type": "markdown",
      "source": [
        "#### LTE Traffic Forecasting Accuracy Overall Result"
      ],
      "metadata": {
        "id": "Gk-wpajGOwr0"
      }
    },
    {
      "cell_type": "code",
      "source": [
        "# Eveluating results for each configuration\n",
        "evaluating_cols = metric_cols + ['Configuration']\n",
        "overall_result_daily = pd.DataFrame(columns= evaluating_cols)\n",
        "full_eval = []\n",
        "daily_configurations = final_result_daily.configuration.unique()\n",
        "\n",
        "for configuration in daily_configurations:\n",
        "  temp_df = final_result_daily[final_result_daily['configuration']==configuration]\n",
        "  temp_eval = timeseries_evaluation_metrics_func(temp_df.y, temp_df.yhat)\n",
        "  temp_eval.append(configuration)\n",
        "  full_eval.append(temp_eval)\n",
        "\n",
        "overall_result_daily = pd.concat([overall_result_daily,\n",
        "                                  pd.DataFrame(full_eval, columns= evaluating_cols)])\n",
        "overall_result_daily.round(5)"
      ],
      "metadata": {
        "colab": {
          "base_uri": "https://localhost:8080/",
          "height": 143
        },
        "id": "Ty0tunW0KMHN",
        "outputId": "56a9e2c0-50d8-4d00-c7ef-8ff86af24234"
      },
      "execution_count": null,
      "outputs": [
        {
          "output_type": "execute_result",
          "data": {
            "text/plain": [
              "     sMAPE      EVS       R2 Configuration\n",
              "0  0.29390  0.85330  0.85234        conf_1\n",
              "1  0.29032  0.87967  0.87854        conf_2\n",
              "2  0.29395  0.88292  0.88147        conf_3"
            ],
            "text/html": [
              "\n",
              "  <div id=\"df-ac056ee4-866f-4b68-946b-cfc70298e201\">\n",
              "    <div class=\"colab-df-container\">\n",
              "      <div>\n",
              "<style scoped>\n",
              "    .dataframe tbody tr th:only-of-type {\n",
              "        vertical-align: middle;\n",
              "    }\n",
              "\n",
              "    .dataframe tbody tr th {\n",
              "        vertical-align: top;\n",
              "    }\n",
              "\n",
              "    .dataframe thead th {\n",
              "        text-align: right;\n",
              "    }\n",
              "</style>\n",
              "<table border=\"1\" class=\"dataframe\">\n",
              "  <thead>\n",
              "    <tr style=\"text-align: right;\">\n",
              "      <th></th>\n",
              "      <th>sMAPE</th>\n",
              "      <th>EVS</th>\n",
              "      <th>R2</th>\n",
              "      <th>Configuration</th>\n",
              "    </tr>\n",
              "  </thead>\n",
              "  <tbody>\n",
              "    <tr>\n",
              "      <th>0</th>\n",
              "      <td>0.29390</td>\n",
              "      <td>0.85330</td>\n",
              "      <td>0.85234</td>\n",
              "      <td>conf_1</td>\n",
              "    </tr>\n",
              "    <tr>\n",
              "      <th>1</th>\n",
              "      <td>0.29032</td>\n",
              "      <td>0.87967</td>\n",
              "      <td>0.87854</td>\n",
              "      <td>conf_2</td>\n",
              "    </tr>\n",
              "    <tr>\n",
              "      <th>2</th>\n",
              "      <td>0.29395</td>\n",
              "      <td>0.88292</td>\n",
              "      <td>0.88147</td>\n",
              "      <td>conf_3</td>\n",
              "    </tr>\n",
              "  </tbody>\n",
              "</table>\n",
              "</div>\n",
              "      <button class=\"colab-df-convert\" onclick=\"convertToInteractive('df-ac056ee4-866f-4b68-946b-cfc70298e201')\"\n",
              "              title=\"Convert this dataframe to an interactive table.\"\n",
              "              style=\"display:none;\">\n",
              "        \n",
              "  <svg xmlns=\"http://www.w3.org/2000/svg\" height=\"24px\"viewBox=\"0 0 24 24\"\n",
              "       width=\"24px\">\n",
              "    <path d=\"M0 0h24v24H0V0z\" fill=\"none\"/>\n",
              "    <path d=\"M18.56 5.44l.94 2.06.94-2.06 2.06-.94-2.06-.94-.94-2.06-.94 2.06-2.06.94zm-11 1L8.5 8.5l.94-2.06 2.06-.94-2.06-.94L8.5 2.5l-.94 2.06-2.06.94zm10 10l.94 2.06.94-2.06 2.06-.94-2.06-.94-.94-2.06-.94 2.06-2.06.94z\"/><path d=\"M17.41 7.96l-1.37-1.37c-.4-.4-.92-.59-1.43-.59-.52 0-1.04.2-1.43.59L10.3 9.45l-7.72 7.72c-.78.78-.78 2.05 0 2.83L4 21.41c.39.39.9.59 1.41.59.51 0 1.02-.2 1.41-.59l7.78-7.78 2.81-2.81c.8-.78.8-2.07 0-2.86zM5.41 20L4 18.59l7.72-7.72 1.47 1.35L5.41 20z\"/>\n",
              "  </svg>\n",
              "      </button>\n",
              "      \n",
              "  <style>\n",
              "    .colab-df-container {\n",
              "      display:flex;\n",
              "      flex-wrap:wrap;\n",
              "      gap: 12px;\n",
              "    }\n",
              "\n",
              "    .colab-df-convert {\n",
              "      background-color: #E8F0FE;\n",
              "      border: none;\n",
              "      border-radius: 50%;\n",
              "      cursor: pointer;\n",
              "      display: none;\n",
              "      fill: #1967D2;\n",
              "      height: 32px;\n",
              "      padding: 0 0 0 0;\n",
              "      width: 32px;\n",
              "    }\n",
              "\n",
              "    .colab-df-convert:hover {\n",
              "      background-color: #E2EBFA;\n",
              "      box-shadow: 0px 1px 2px rgba(60, 64, 67, 0.3), 0px 1px 3px 1px rgba(60, 64, 67, 0.15);\n",
              "      fill: #174EA6;\n",
              "    }\n",
              "\n",
              "    [theme=dark] .colab-df-convert {\n",
              "      background-color: #3B4455;\n",
              "      fill: #D2E3FC;\n",
              "    }\n",
              "\n",
              "    [theme=dark] .colab-df-convert:hover {\n",
              "      background-color: #434B5C;\n",
              "      box-shadow: 0px 1px 3px 1px rgba(0, 0, 0, 0.15);\n",
              "      filter: drop-shadow(0px 1px 2px rgba(0, 0, 0, 0.3));\n",
              "      fill: #FFFFFF;\n",
              "    }\n",
              "  </style>\n",
              "\n",
              "      <script>\n",
              "        const buttonEl =\n",
              "          document.querySelector('#df-ac056ee4-866f-4b68-946b-cfc70298e201 button.colab-df-convert');\n",
              "        buttonEl.style.display =\n",
              "          google.colab.kernel.accessAllowed ? 'block' : 'none';\n",
              "\n",
              "        async function convertToInteractive(key) {\n",
              "          const element = document.querySelector('#df-ac056ee4-866f-4b68-946b-cfc70298e201');\n",
              "          const dataTable =\n",
              "            await google.colab.kernel.invokeFunction('convertToInteractive',\n",
              "                                                     [key], {});\n",
              "          if (!dataTable) return;\n",
              "\n",
              "          const docLinkHtml = 'Like what you see? Visit the ' +\n",
              "            '<a target=\"_blank\" href=https://colab.research.google.com/notebooks/data_table.ipynb>data table notebook</a>'\n",
              "            + ' to learn more about interactive tables.';\n",
              "          element.innerHTML = '';\n",
              "          dataTable['output_type'] = 'display_data';\n",
              "          await google.colab.output.renderOutput(dataTable, element);\n",
              "          const docLink = document.createElement('div');\n",
              "          docLink.innerHTML = docLinkHtml;\n",
              "          element.appendChild(docLink);\n",
              "        }\n",
              "      </script>\n",
              "    </div>\n",
              "  </div>\n",
              "  "
            ]
          },
          "metadata": {},
          "execution_count": 72
        }
      ]
    },
    {
      "cell_type": "code",
      "source": [
        "# Eveluating results for each configuration\n",
        "evaluating_cols_1 = metric_cols + ['Configuration', 'cell']\n",
        "individual_result_daily = pd.DataFrame(columns=evaluating_cols_1)\n",
        "ind_eval = []\n",
        "daily_configurations = final_result_daily.configuration.unique()\n",
        "cells_eval = final_result_daily['Cell'].unique()\n",
        "\n",
        "for cell in cells_eval:\n",
        "  temp_cell_df = final_result_daily[final_result_daily['Cell']==cell]\n",
        "\n",
        "  for configuration in daily_configurations:\n",
        "    temp_df = temp_cell_df[temp_cell_df['configuration']==configuration]\n",
        "    temp_eval = timeseries_evaluation_metrics_func(temp_df.y, temp_df.yhat)\n",
        "    temp_eval.append(configuration)\n",
        "    temp_eval.append(cell)\n",
        "    ind_eval.append(temp_eval)\n",
        "\n",
        "individual_result_daily = pd.concat([individual_result_daily,\n",
        "                                  pd.DataFrame(ind_eval, columns= evaluating_cols_1)])"
      ],
      "metadata": {
        "id": "sE2psBdmv0ay"
      },
      "execution_count": null,
      "outputs": []
    },
    {
      "cell_type": "markdown",
      "source": [
        "**Note:** After run all desired configurations, pick one that best performed. This one will be used further, in the final solution."
      ],
      "metadata": {
        "id": "7XrOu3cZlRVG"
      }
    },
    {
      "cell_type": "code",
      "source": [
        "daily_prediction = final_result_daily[final_result_daily['configuration']=='conf_3'].copy().reset_index(drop=True)\n",
        "daily_prediction.drop(['configuration'], axis=1, inplace=True)"
      ],
      "metadata": {
        "id": "-bazAA39k_KO"
      },
      "execution_count": null,
      "outputs": []
    },
    {
      "cell_type": "markdown",
      "source": [
        "#### Mean absolute percentage error vs forecast day\n",
        "The chart shows the calculated forecast results for all LTE cells value for every forecast day from 1 to 28"
      ],
      "metadata": {
        "id": "855TpbxmnLD-"
      }
    },
    {
      "cell_type": "code",
      "source": [
        "def daily_metrics(dataset, metric):\n",
        "  daily_metric = []\n",
        "\n",
        "  for day in dataset['ds'].unique():\n",
        "    temp_d_forecast = dataset[dataset['ds']==day]\n",
        "    performance = metric(temp_d_forecast.y, temp_d_forecast.yhat)\n",
        "    daily_metric.append(performance)\n",
        "\n",
        "  return daily_metric"
      ],
      "metadata": {
        "id": "YanndU_KQNhO"
      },
      "execution_count": null,
      "outputs": []
    },
    {
      "cell_type": "code",
      "source": [
        "daily_smape = daily_metrics(daily_prediction, smape_metric)\n",
        "\n",
        "# Plotting\n",
        "x = range(1, len(daily_smape)+1)\n",
        "y = daily_smape\n",
        "plt.fill_between( x, y)\n",
        "plt.title('Symmetric mean absolute percentage error vs forecast day', fontsize=14)\n",
        "plt.xlabel('Forecast Day', fontsize=12)\n",
        "plt.ylabel('Symmetric mean  absolute precenteage error', fontsize=12);"
      ],
      "metadata": {
        "colab": {
          "base_uri": "https://localhost:8080/",
          "height": 354
        },
        "id": "0rmKwsJVnKH7",
        "outputId": "b8163b0d-02ea-46d0-acb6-25080f3493cb"
      },
      "execution_count": null,
      "outputs": [
        {
          "output_type": "display_data",
          "data": {
            "text/plain": [
              "<Figure size 576x360 with 1 Axes>"
            ],
            "image/png": "[encoded data removed]"
          },
          "metadata": {
            "needs_background": "light"
          }
        }
      ]
    },
    {
      "cell_type": "markdown",
      "source": [
        "#### R² score and explained variance score vs forecast day"
      ],
      "metadata": {
        "id": "vaBKFjHknP0V"
      }
    },
    {
      "cell_type": "code",
      "source": [
        "daily_evs = daily_metrics(daily_prediction, metrics.explained_variance_score)\n",
        "daily_r2 = daily_metrics(daily_prediction, metrics.r2_score)\n",
        "\n",
        "# Plotting\n",
        "x = range(1, len(daily_r2)+1)\n",
        "plt.plot(x, daily_evs, '--')\n",
        "plt.plot(x, daily_r2, '--o')\n",
        "plt.title('R² score and explained variance score vs forecast day', fontsize=14)\n",
        "plt.xlabel(\"Forecast Day\", fontsize=12)\n",
        "plt.legend(['explained_variance_score', 'r2_score'])\n",
        "plt.grid();"
      ],
      "metadata": {
        "colab": {
          "base_uri": "https://localhost:8080/",
          "height": 354
        },
        "id": "jDPOrDwenAME",
        "outputId": "0c50a450-1968-4a8c-aeef-039feaa2880e"
      },
      "execution_count": null,
      "outputs": [
        {
          "output_type": "display_data",
          "data": {
            "text/plain": [
              "<Figure size 576x360 with 1 Axes>"
            ],
            "image/png": "[encoded data removed]"
          },
          "metadata": {
            "needs_background": "light"
          }
        }
      ]
    },
    {
      "cell_type": "markdown",
      "source": [
        "#### Scatter of forecasting accuracy (sMAPE) vs traffic volume"
      ],
      "metadata": {
        "id": "49NSxHVcX32G"
      }
    },
    {
      "cell_type": "code",
      "source": [
        "cell_traffic = []\n",
        "cell_smape = []\n",
        "\n",
        "for cell in daily_prediction.Cell.unique():\n",
        "  temp = daily_prediction[daily_prediction['Cell']==cell].copy()\n",
        "  cell_traffic.append(temp.y.sum())\n",
        "  cell_smape.append(smape_metric(temp.y, temp.yhat))\n",
        "\n",
        "# Plotting\n",
        "plt.scatter(np.array(cell_traffic)/1024/1024, cell_smape, marker='+')\n",
        "plt.title('Accuracy (sMAPE) vs traffic volume per cell', fontsize=14)\n",
        "plt.xlabel('Traffic per cell in 28 days, GB', fontsize=12)\n",
        "plt.ylabel('Symmetric mean absolute precenteage error', fontsize=12);"
      ],
      "metadata": {
        "colab": {
          "base_uri": "https://localhost:8080/",
          "height": 354
        },
        "id": "KexE3tkIYaK7",
        "outputId": "8c7edd36-9e63-4c78-bab8-8c3162c92a0d"
      },
      "execution_count": null,
      "outputs": [
        {
          "output_type": "display_data",
          "data": {
            "text/plain": [
              "<Figure size 576x360 with 1 Axes>"
            ],
            "image/png": "[encoded data removed]"
          },
          "metadata": {
            "needs_background": "light"
          }
        }
      ]
    },
    {
      "cell_type": "markdown",
      "source": [
        "## III. Hourly Traffic Trend"
      ],
      "metadata": {
        "id": "Hqnb7WtWlH_a"
      }
    },
    {
      "cell_type": "markdown",
      "source": [
        "### Getting Data"
      ],
      "metadata": {
        "id": "5NqRYnIhgnu4"
      }
    },
    {
      "cell_type": "markdown",
      "source": [
        "In the second step, using the available 28 days of hourly data"
      ],
      "metadata": {
        "id": "MPZgxRX9Q-B6"
      }
    },
    {
      "cell_type": "code",
      "source": [
        "# Opening daily cell data\n",
        "hourly_traffic = pd.read_csv('df_hourly.csv', sep=';')"
      ],
      "metadata": {
        "id": "3jlItFoognvE"
      },
      "execution_count": null,
      "outputs": []
    },
    {
      "cell_type": "code",
      "source": [
        "# Calculating PRB usage\n",
        "hourly_traffic['PRB_Util_Qty_True'] = hourly_traffic['PRB_Utilization_Percent']*hourly_traffic['PRB_Available_DL']\n",
        "hourly_traffic['Datetime'] = pd.to_datetime(hourly_traffic['Datetime'])"
      ],
      "metadata": {
        "id": "4pcPk0M8P_ay"
      },
      "execution_count": null,
      "outputs": []
    },
    {
      "cell_type": "code",
      "source": [
        "# Renaming columns for Prophet standard, where 'ds' its the date\n",
        "# and 'y' it's a target variable Data_Volume(GB)\n",
        "hourly_traffic.columns = ['Cell', 'ds', 'y', 'PRB_Available_DL', 'PRB_Utilization_Percent', 'PRB_Util_Qty_True']"
      ],
      "metadata": {
        "id": "gNgnEY-WgnvE"
      },
      "execution_count": null,
      "outputs": []
    },
    {
      "cell_type": "code",
      "source": [
        "# Checking cell quantity and data range\n",
        "list_cells = hourly_traffic.Cell.unique()\n",
        "print(f'Dataset have {len(list_cells)} unique cells',\n",
        "      f'with date between {min(hourly_traffic.ds)} and {max(hourly_traffic.ds)}.')"
      ],
      "metadata": {
        "colab": {
          "base_uri": "https://localhost:8080/"
        },
        "outputId": "24a434e3-d49f-4e5d-ac0d-bc087d7d9486",
        "id": "8BvAeAZkgnvF"
      },
      "execution_count": null,
      "outputs": [
        {
          "output_type": "stream",
          "name": "stdout",
          "text": [
            "Dataset have 163 unique cells with date between 2019-01-01 00:00:00 and 2021-01-28 23:00:00.\n"
          ]
        }
      ]
    },
    {
      "cell_type": "code",
      "source": [
        "# Splitting dataset\n",
        "# We will use the same period from daily traffic, except train_ini witch we will use last 30 days\n",
        "train_ini = datetime.strptime(train_end, \"%Y-%m-%d\") - timedelta(days=30)\n",
        "n_hour_forecast = (val_end - datetime.strptime(val_ini, \"%Y-%m-%d\")).days * 7\n",
        "\n",
        "df_hourly_train = hourly_traffic[(hourly_traffic['ds'] >= train_ini) & (hourly_traffic['ds'] < train_end)].copy()\n",
        "df_hourly_val = hourly_traffic[(hourly_traffic['ds'] >= val_ini) & (hourly_traffic['ds'] < val_end)].copy()\n",
        "\n",
        "df_hourly_train.head()"
      ],
      "metadata": {
        "id": "ijUqjvzkgnvF",
        "colab": {
          "base_uri": "https://localhost:8080/",
          "height": 206
        },
        "outputId": "756cb3de-9640-4ee2-fc02-826644c67483"
      },
      "execution_count": null,
      "outputs": [
        {
          "output_type": "execute_result",
          "data": {
            "text/plain": [
              "             Cell                  ds             y  PRB_Available_DL  \\\n",
              "1760928  cell0001 2020-06-01 00:00:00  1.158804e+06             100.0   \n",
              "1760929  cell0001 2020-06-01 01:00:00  4.515076e+05             100.0   \n",
              "1760930  cell0001 2020-06-01 02:00:00  6.314205e+05             100.0   \n",
              "1760931  cell0001 2020-06-01 03:00:00  1.551132e+05             100.0   \n",
              "1760932  cell0001 2020-06-01 04:00:00  1.360913e+04             100.0   \n",
              "\n",
              "         PRB_Utilization_Percent  PRB_Util_Qty_True  \n",
              "1760928                 0.096667           9.666667  \n",
              "1760929                 0.051667           5.166667  \n",
              "1760930                 0.053333           5.333333  \n",
              "1760931                 0.050000           5.000000  \n",
              "1760932                 0.050000           5.000000  "
            ],
            "text/html": [
              "\n",
              "  <div id=\"df-dbaf99f6-bf40-4017-9eef-0d6e97161d7d\">\n",
              "    <div class=\"colab-df-container\">\n",
              "      <div>\n",
              "<style scoped>\n",
              "    .dataframe tbody tr th:only-of-type {\n",
              "        vertical-align: middle;\n",
              "    }\n",
              "\n",
              "    .dataframe tbody tr th {\n",
              "        vertical-align: top;\n",
              "    }\n",
              "\n",
              "    .dataframe thead th {\n",
              "        text-align: right;\n",
              "    }\n",
              "</style>\n",
              "<table border=\"1\" class=\"dataframe\">\n",
              "  <thead>\n",
              "    <tr style=\"text-align: right;\">\n",
              "      <th></th>\n",
              "      <th>Cell</th>\n",
              "      <th>ds</th>\n",
              "      <th>y</th>\n",
              "      <th>PRB_Available_DL</th>\n",
              "      <th>PRB_Utilization_Percent</th>\n",
              "      <th>PRB_Util_Qty_True</th>\n",
              "    </tr>\n",
              "  </thead>\n",
              "  <tbody>\n",
              "    <tr>\n",
              "      <th>1760928</th>\n",
              "      <td>cell0001</td>\n",
              "      <td>2020-06-01 00:00:00</td>\n",
              "      <td>1.158804e+06</td>\n",
              "      <td>100.0</td>\n",
              "      <td>0.096667</td>\n",
              "      <td>9.666667</td>\n",
              "    </tr>\n",
              "    <tr>\n",
              "      <th>1760929</th>\n",
              "      <td>cell0001</td>\n",
              "      <td>2020-06-01 01:00:00</td>\n",
              "      <td>4.515076e+05</td>\n",
              "      <td>100.0</td>\n",
              "      <td>0.051667</td>\n",
              "      <td>5.166667</td>\n",
              "    </tr>\n",
              "    <tr>\n",
              "      <th>1760930</th>\n",
              "      <td>cell0001</td>\n",
              "      <td>2020-06-01 02:00:00</td>\n",
              "      <td>6.314205e+05</td>\n",
              "      <td>100.0</td>\n",
              "      <td>0.053333</td>\n",
              "      <td>5.333333</td>\n",
              "    </tr>\n",
              "    <tr>\n",
              "      <th>1760931</th>\n",
              "      <td>cell0001</td>\n",
              "      <td>2020-06-01 03:00:00</td>\n",
              "      <td>1.551132e+05</td>\n",
              "      <td>100.0</td>\n",
              "      <td>0.050000</td>\n",
              "      <td>5.000000</td>\n",
              "    </tr>\n",
              "    <tr>\n",
              "      <th>1760932</th>\n",
              "      <td>cell0001</td>\n",
              "      <td>2020-06-01 04:00:00</td>\n",
              "      <td>1.360913e+04</td>\n",
              "      <td>100.0</td>\n",
              "      <td>0.050000</td>\n",
              "      <td>5.000000</td>\n",
              "    </tr>\n",
              "  </tbody>\n",
              "</table>\n",
              "</div>\n",
              "      <button class=\"colab-df-convert\" onclick=\"convertToInteractive('df-dbaf99f6-bf40-4017-9eef-0d6e97161d7d')\"\n",
              "              title=\"Convert this dataframe to an interactive table.\"\n",
              "              style=\"display:none;\">\n",
              "        \n",
              "  <svg xmlns=\"http://www.w3.org/2000/svg\" height=\"24px\"viewBox=\"0 0 24 24\"\n",
              "       width=\"24px\">\n",
              "    <path d=\"M0 0h24v24H0V0z\" fill=\"none\"/>\n",
              "    <path d=\"M18.56 5.44l.94 2.06.94-2.06 2.06-.94-2.06-.94-.94-2.06-.94 2.06-2.06.94zm-11 1L8.5 8.5l.94-2.06 2.06-.94-2.06-.94L8.5 2.5l-.94 2.06-2.06.94zm10 10l.94 2.06.94-2.06 2.06-.94-2.06-.94-.94-2.06-.94 2.06-2.06.94z\"/><path d=\"M17.41 7.96l-1.37-1.37c-.4-.4-.92-.59-1.43-.59-.52 0-1.04.2-1.43.59L10.3 9.45l-7.72 7.72c-.78.78-.78 2.05 0 2.83L4 21.41c.39.39.9.59 1.41.59.51 0 1.02-.2 1.41-.59l7.78-7.78 2.81-2.81c.8-.78.8-2.07 0-2.86zM5.41 20L4 18.59l7.72-7.72 1.47 1.35L5.41 20z\"/>\n",
              "  </svg>\n",
              "      </button>\n",
              "      \n",
              "  <style>\n",
              "    .colab-df-container {\n",
              "      display:flex;\n",
              "      flex-wrap:wrap;\n",
              "      gap: 12px;\n",
              "    }\n",
              "\n",
              "    .colab-df-convert {\n",
              "      background-color: #E8F0FE;\n",
              "      border: none;\n",
              "      border-radius: 50%;\n",
              "      cursor: pointer;\n",
              "      display: none;\n",
              "      fill: #1967D2;\n",
              "      height: 32px;\n",
              "      padding: 0 0 0 0;\n",
              "      width: 32px;\n",
              "    }\n",
              "\n",
              "    .colab-df-convert:hover {\n",
              "      background-color: #E2EBFA;\n",
              "      box-shadow: 0px 1px 2px rgba(60, 64, 67, 0.3), 0px 1px 3px 1px rgba(60, 64, 67, 0.15);\n",
              "      fill: #174EA6;\n",
              "    }\n",
              "\n",
              "    [theme=dark] .colab-df-convert {\n",
              "      background-color: #3B4455;\n",
              "      fill: #D2E3FC;\n",
              "    }\n",
              "\n",
              "    [theme=dark] .colab-df-convert:hover {\n",
              "      background-color: #434B5C;\n",
              "      box-shadow: 0px 1px 3px 1px rgba(0, 0, 0, 0.15);\n",
              "      filter: drop-shadow(0px 1px 2px rgba(0, 0, 0, 0.3));\n",
              "      fill: #FFFFFF;\n",
              "    }\n",
              "  </style>\n",
              "\n",
              "      <script>\n",
              "        const buttonEl =\n",
              "          document.querySelector('#df-dbaf99f6-bf40-4017-9eef-0d6e97161d7d button.colab-df-convert');\n",
              "        buttonEl.style.display =\n",
              "          google.colab.kernel.accessAllowed ? 'block' : 'none';\n",
              "\n",
              "        async function convertToInteractive(key) {\n",
              "          const element = document.querySelector('#df-dbaf99f6-bf40-4017-9eef-0d6e97161d7d');\n",
              "          const dataTable =\n",
              "            await google.colab.kernel.invokeFunction('convertToInteractive',\n",
              "                                                     [key], {});\n",
              "          if (!dataTable) return;\n",
              "\n",
              "          const docLinkHtml = 'Like what you see? Visit the ' +\n",
              "            '<a target=\"_blank\" href=https://colab.research.google.com/notebooks/data_table.ipynb>data table notebook</a>'\n",
              "            + ' to learn more about interactive tables.';\n",
              "          element.innerHTML = '';\n",
              "          dataTable['output_type'] = 'display_data';\n",
              "          await google.colab.output.renderOutput(dataTable, element);\n",
              "          const docLink = document.createElement('div');\n",
              "          docLink.innerHTML = docLinkHtml;\n",
              "          element.appendChild(docLink);\n",
              "        }\n",
              "      </script>\n",
              "    </div>\n",
              "  </div>\n",
              "  "
            ]
          },
          "metadata": {},
          "execution_count": 82
        }
      ]
    },
    {
      "cell_type": "markdown",
      "source": [
        "**Note:** As we can se on topic *B. LTE network level throughput to traffic relation*, one of the factors related to the occupation of cell resources is the volume of traffic generated by users. In our studies, we verified that the behavior of this volume throughout the day can be differentiated between weekdays and weekends.\n",
        "\n",
        "In order to better capture this difference, two conditional columns were included in the dataset, one indicating weekdays and the other indicating weekends. Two custom conditional seasonalities were also added to the algorithm to reflect this difference."
      ],
      "metadata": {
        "id": "P_M5OGb_uQbj"
      }
    },
    {
      "cell_type": "code",
      "source": [
        "# Weekend function\n",
        "def is_weekend(ds):\n",
        "    date = pd.to_datetime(ds)\n",
        "    return (date.dayofweek == 5 or date.dayofweek == 6)"
      ],
      "metadata": {
        "id": "82IrFn0bv10N"
      },
      "execution_count": null,
      "outputs": []
    },
    {
      "cell_type": "code",
      "source": [
        "# Creating weekend/weekday columns\n",
        "df_hourly_train['weekend'] = df_hourly_train['ds'].apply(is_weekend)\n",
        "df_hourly_train['weekday'] = ~df_hourly_train['ds'].apply(is_weekend)\n",
        "df_hourly_val['weekend'] = df_hourly_val['ds'].apply(is_weekend)\n",
        "df_hourly_val['weekday'] = ~df_hourly_val['ds'].apply(is_weekend)"
      ],
      "metadata": {
        "id": "sIM5NPtywqTm"
      },
      "execution_count": null,
      "outputs": []
    },
    {
      "cell_type": "markdown",
      "source": [
        "### Forecasting"
      ],
      "metadata": {
        "id": "A8LyOtgnsQT0"
      }
    },
    {
      "cell_type": "markdown",
      "source": [
        "**Notes:**\n",
        "1. As we're only interested in hourly traffic distribution between weekdays and weekends, we will use **growth as flat** and choose two days forecast, been one for weekday and one for weekend.\n",
        "2. In this step we also add more than one configuration to check which one fits best in hourly distribution."
      ],
      "metadata": {
        "id": "sfm1z2ctzS18"
      }
    },
    {
      "cell_type": "code",
      "source": [
        "# Parameters\n",
        "hourly_params = [\n",
        "                 # Config01\n",
        "                 [{'growth': 'flat'},                                                     # Trend growth\n",
        "                  {'fourier_order': 8, 'mode': 'multiplicative', 'prior_scale': 0.1}],    # Daily Hyperparameters\n",
        "\n",
        "                 # Config02\n",
        "                 [{'growth': 'flat'},\n",
        "                  {'fourier_order': 8, 'mode': 'multiplicative', 'prior_scale': 0.05}],\n",
        "\n",
        "                 # Config03\n",
        "                 [{'growth': 'flat'},\n",
        "                  {'fourier_order': 8, 'mode': 'multiplicative', 'prior_scale': 0.01}]\n",
        "]"
      ],
      "metadata": {
        "id": "YU9NujzFsQUO"
      },
      "execution_count": null,
      "outputs": []
    },
    {
      "cell_type": "code",
      "source": [
        "models_hourly = pd.DataFrame()\n",
        "\n",
        "for cell in list_cells[:]:\n",
        "\n",
        "  n_config = 1\n",
        "  # Filtering cell\n",
        "  df_train_temp = df_hourly_train[df_hourly_train['Cell']==cell].copy()\n",
        "  df_val_temp = df_hourly_val[df_hourly_val['Cell']==cell].copy()\n",
        "\n",
        "  # Applying Box-Cox\n",
        "  df_train_temp['y'], lambda_prophet = stats.boxcox(df_train_temp['y'])\n",
        "\n",
        "  # Executing all configurations\n",
        "  for params in hourly_params:\n",
        "    config = 'conf_' + str(n_config).zfill(len(str(len(hourly_params))))\n",
        "\n",
        "    # Instantiating the model\n",
        "    m = Prophet(yearly_seasonality=False,\n",
        "                weekly_seasonality=False,\n",
        "                daily_seasonality=False,\n",
        "                uncertainty_samples=0,      # Zeroed to speed up forecast\n",
        "                **params[0])\n",
        "\n",
        "    # Daily seasonality\n",
        "    m.add_seasonality(name='daily_weekend', period=1, condition_name='weekend', **params[1])\n",
        "    m.add_seasonality(name='daily_weekday', period=1, condition_name='weekday', **params[1])\n",
        "\n",
        "    # Fit\n",
        "    m.fit(df_train_temp)\n",
        "\n",
        "    # Create future dataset\n",
        "    date_range = pd.date_range(start='2017-01-6', periods=48, freq='H')\n",
        "    future = pd.DataFrame(date_range, columns=['ds'])\n",
        "\n",
        "    # Creating conditional columns for future dataset\n",
        "    future['weekend'] = future['ds'].apply(is_weekend)\n",
        "    future['weekday'] = ~future['ds'].apply(is_weekend)\n",
        "\n",
        "    # Forecast\n",
        "    forecast = m.predict(future)\n",
        "\n",
        "    # Applying inverse Box-Cox in forecast data\n",
        "    forecast['yhat'] = inverse_boxcox(forecast['yhat'], lambda_prophet)\n",
        "\n",
        "    # Adding information columns\n",
        "    forecast['Cell'] = cell\n",
        "    forecast['weekday'] = ~forecast['ds'].apply(is_weekend)\n",
        "    forecast['hour'] = forecast['ds'].dt.hour\n",
        "    forecast['configuration'] = config\n",
        "\n",
        "    models_hourly = pd.concat([models_hourly,\n",
        "                               forecast[['Cell', 'weekday', 'hour', 'yhat', 'configuration']]])\n",
        "\n",
        "    n_config += 1"
      ],
      "metadata": {
        "id": "jFqUef1osQUO"
      },
      "execution_count": null,
      "outputs": []
    },
    {
      "cell_type": "markdown",
      "source": [
        "As we can see below, there are differences in behavior between weekdays and weekend. We will use this in the traffic distribution."
      ],
      "metadata": {
        "id": "U-mQl8oVHeBt"
      }
    },
    {
      "cell_type": "code",
      "source": [
        "m.plot_components(forecast);"
      ],
      "metadata": {
        "colab": {
          "base_uri": "https://localhost:8080/",
          "height": 657
        },
        "id": "TrX_nQinYOpN",
        "outputId": "b3270d5f-905c-43f9-904f-58d32a5921ca"
      },
      "execution_count": null,
      "outputs": [
        {
          "output_type": "display_data",
          "data": {
            "text/plain": [
              "<Figure size 648x648 with 3 Axes>"
            ],
            "image/png": "[encoded data removed]"
          },
          "metadata": {}
        }
      ]
    },
    {
      "cell_type": "code",
      "source": [
        "# Calculating cell proportional hourly traffic per day and configuration\n",
        "models_hourly['yhat%'] = models_hourly['yhat'] / models_hourly.groupby(['Cell', 'weekday', 'configuration'])['yhat'].transform('sum')\n",
        "models_hourly.drop(columns='yhat', inplace=True)"
      ],
      "metadata": {
        "id": "6sy8SzoMVUNH"
      },
      "execution_count": null,
      "outputs": []
    },
    {
      "cell_type": "markdown",
      "source": [
        "### Peak daily traffic"
      ],
      "metadata": {
        "id": "pBrbl71jSh9b"
      }
    },
    {
      "cell_type": "markdown",
      "source": [
        "To obtain peak daily traffic, authors suggest proportionally distributing the hourly prediction values within the predicted 30 days daily traffic. According to them, this method accurately follows real traffic pattern but removes random peaks or decreases and allows to forecast traffic volume for each hour."
      ],
      "metadata": {
        "id": "utyyFsOxTf5U"
      }
    },
    {
      "cell_type": "code",
      "source": [
        "# Getting the quantity and configurations name\n",
        "n_conf_hourly = len(models_hourly.configuration.unique())\n",
        "config_name = models_hourly.configuration.unique()\n",
        "\n",
        "# Creating hourly dataset\n",
        "final_result_hourly = daily_prediction.drop('y', axis=1)\n",
        "\n",
        "# Creating hourly column for each cell and configuration\n",
        "hours_24 = cycle(list(range(0, 24)))\n",
        "configs = cycle(np.repeat(config_name, 24))\n",
        "\n",
        "final_result_hourly = pd.DataFrame(np.repeat(final_result_hourly.values, 24 * n_conf_hourly, axis=0),\n",
        "                                   columns=final_result_hourly.columns)\n",
        "final_result_hourly['hour'] = [next(hours_24) for hour in range(len(final_result_hourly))]\n",
        "final_result_hourly['configuration'] = [next(configs) for config in range(len(final_result_hourly))]\n",
        "\n",
        "# Adding weekday status\n",
        "final_result_hourly['weekday'] = ~final_result_hourly['ds'].apply(is_weekend)\n",
        "final_result_hourly.rename(columns={'yhat':'daily_data_volume'}, inplace=True)"
      ],
      "metadata": {
        "id": "aXibxWtZFcbT"
      },
      "execution_count": null,
      "outputs": []
    },
    {
      "cell_type": "markdown",
      "source": [
        "We joined daily and hour dataframe considering cell, hour, configuration and weekend/weekday status."
      ],
      "metadata": {
        "id": "p-ebJS-20Y5I"
      }
    },
    {
      "cell_type": "code",
      "source": [
        "# Merging daily prediction with hourly prediction\n",
        "final_result_hourly = final_result_hourly.merge(models_hourly,\n",
        "                                                on=['Cell', 'weekday', 'hour', 'configuration'],\n",
        "                                                how='left')\n",
        "\n",
        "# Distributing the hourly prediction values within the predicted daily traffic\n",
        "final_result_hourly['yhat'] = final_result_hourly['daily_data_volume'] * final_result_hourly['yhat%']\n",
        "\n",
        "final_result_hourly.rename(columns={'ds':'day'}, inplace=True)\n",
        "\n",
        "# Creating timestamp\n",
        "final_result_hourly['ds'] = final_result_hourly['day'] + final_result_hourly.hour.astype('timedelta64[h]')"
      ],
      "metadata": {
        "id": "QadpqdvD1qYY"
      },
      "execution_count": null,
      "outputs": []
    },
    {
      "cell_type": "code",
      "source": [
        "final_result_hourly = pd.merge(final_result_hourly[['Cell', 'day', 'ds', 'yhat',\n",
        "                                                    'configuration', 'daily_data_volume', 'yhat%']],\n",
        "                               df_hourly_val.drop(['weekend', 'weekday'], axis=1),\n",
        "                               left_on=['Cell', 'ds'],\n",
        "                               right_on=['Cell', 'ds'],\n",
        "                               how='inner')\n",
        "final_result_hourly = final_result_hourly.sort_values(by = ['Cell', 'configuration', 'ds']).copy()"
      ],
      "metadata": {
        "id": "2-fId3AEIAZs"
      },
      "execution_count": null,
      "outputs": []
    },
    {
      "cell_type": "markdown",
      "source": [
        "### Evaluating"
      ],
      "metadata": {
        "id": "patg6T-g0BsT"
      }
    },
    {
      "cell_type": "markdown",
      "source": [
        "**Note:** Authors didn't perform precision measurements in this phase of study, nevertheless, I've inserted the measurements presented in the previous topic, with this, it's possible to choose the model configuration that best fit the validation data."
      ],
      "metadata": {
        "id": "i6SM2p7KcJU9"
      }
    },
    {
      "cell_type": "markdown",
      "source": [
        "#### LTE Traffic Forecasting Accuracy Overall Result"
      ],
      "metadata": {
        "id": "A4xRRpnq0E_g"
      }
    },
    {
      "cell_type": "code",
      "source": [
        "# Eveluating results for each configuration\n",
        "evaluating_cols = metric_cols + ['Configuration']\n",
        "overall_result_hourly = pd.DataFrame(columns= evaluating_cols)\n",
        "full_eval = []\n",
        "hourly_configurations = final_result_hourly.configuration.unique()\n",
        "\n",
        "for configuration in hourly_configurations:\n",
        "  temp_df = final_result_hourly[final_result_hourly['configuration']==configuration].copy()\n",
        "\n",
        "  temp_df.dropna(inplace=True)   # Delete this line\n",
        "\n",
        "  temp_eval = timeseries_evaluation_metrics_func(temp_df.y, temp_df.yhat)\n",
        "  temp_eval.append(configuration)\n",
        "  full_eval.append(temp_eval)\n",
        "\n",
        "overall_result_hourly = pd.concat([overall_result_hourly,\n",
        "                                  pd.DataFrame(full_eval, columns= evaluating_cols)])\n",
        "overall_result_hourly"
      ],
      "metadata": {
        "colab": {
          "base_uri": "https://localhost:8080/",
          "height": 143
        },
        "outputId": "29ca8e9f-2654-43d7-c0e7-1bb61733c056",
        "id": "PattQlU90E_h"
      },
      "execution_count": null,
      "outputs": [
        {
          "output_type": "execute_result",
          "data": {
            "text/plain": [
              "      sMAPE       EVS        R2 Configuration\n",
              "0  0.478260  0.820387  0.819381        conf_1\n",
              "1  0.482540  0.820672  0.819665        conf_2\n",
              "2  0.631291  0.642894  0.641886        conf_3"
            ],
            "text/html": [
              "\n",
              "  <div id=\"df-d9dcbb54-edc9-4477-9dc7-93867e11a9f9\">\n",
              "    <div class=\"colab-df-container\">\n",
              "      <div>\n",
              "<style scoped>\n",
              "    .dataframe tbody tr th:only-of-type {\n",
              "        vertical-align: middle;\n",
              "    }\n",
              "\n",
              "    .dataframe tbody tr th {\n",
              "        vertical-align: top;\n",
              "    }\n",
              "\n",
              "    .dataframe thead th {\n",
              "        text-align: right;\n",
              "    }\n",
              "</style>\n",
              "<table border=\"1\" class=\"dataframe\">\n",
              "  <thead>\n",
              "    <tr style=\"text-align: right;\">\n",
              "      <th></th>\n",
              "      <th>sMAPE</th>\n",
              "      <th>EVS</th>\n",
              "      <th>R2</th>\n",
              "      <th>Configuration</th>\n",
              "    </tr>\n",
              "  </thead>\n",
              "  <tbody>\n",
              "    <tr>\n",
              "      <th>0</th>\n",
              "      <td>0.478260</td>\n",
              "      <td>0.820387</td>\n",
              "      <td>0.819381</td>\n",
              "      <td>conf_1</td>\n",
              "    </tr>\n",
              "    <tr>\n",
              "      <th>1</th>\n",
              "      <td>0.482540</td>\n",
              "      <td>0.820672</td>\n",
              "      <td>0.819665</td>\n",
              "      <td>conf_2</td>\n",
              "    </tr>\n",
              "    <tr>\n",
              "      <th>2</th>\n",
              "      <td>0.631291</td>\n",
              "      <td>0.642894</td>\n",
              "      <td>0.641886</td>\n",
              "      <td>conf_3</td>\n",
              "    </tr>\n",
              "  </tbody>\n",
              "</table>\n",
              "</div>\n",
              "      <button class=\"colab-df-convert\" onclick=\"convertToInteractive('df-d9dcbb54-edc9-4477-9dc7-93867e11a9f9')\"\n",
              "              title=\"Convert this dataframe to an interactive table.\"\n",
              "              style=\"display:none;\">\n",
              "        \n",
              "  <svg xmlns=\"http://www.w3.org/2000/svg\" height=\"24px\"viewBox=\"0 0 24 24\"\n",
              "       width=\"24px\">\n",
              "    <path d=\"M0 0h24v24H0V0z\" fill=\"none\"/>\n",
              "    <path d=\"M18.56 5.44l.94 2.06.94-2.06 2.06-.94-2.06-.94-.94-2.06-.94 2.06-2.06.94zm-11 1L8.5 8.5l.94-2.06 2.06-.94-2.06-.94L8.5 2.5l-.94 2.06-2.06.94zm10 10l.94 2.06.94-2.06 2.06-.94-2.06-.94-.94-2.06-.94 2.06-2.06.94z\"/><path d=\"M17.41 7.96l-1.37-1.37c-.4-.4-.92-.59-1.43-.59-.52 0-1.04.2-1.43.59L10.3 9.45l-7.72 7.72c-.78.78-.78 2.05 0 2.83L4 21.41c.39.39.9.59 1.41.59.51 0 1.02-.2 1.41-.59l7.78-7.78 2.81-2.81c.8-.78.8-2.07 0-2.86zM5.41 20L4 18.59l7.72-7.72 1.47 1.35L5.41 20z\"/>\n",
              "  </svg>\n",
              "      </button>\n",
              "      \n",
              "  <style>\n",
              "    .colab-df-container {\n",
              "      display:flex;\n",
              "      flex-wrap:wrap;\n",
              "      gap: 12px;\n",
              "    }\n",
              "\n",
              "    .colab-df-convert {\n",
              "      background-color: #E8F0FE;\n",
              "      border: none;\n",
              "      border-radius: 50%;\n",
              "      cursor: pointer;\n",
              "      display: none;\n",
              "      fill: #1967D2;\n",
              "      height: 32px;\n",
              "      padding: 0 0 0 0;\n",
              "      width: 32px;\n",
              "    }\n",
              "\n",
              "    .colab-df-convert:hover {\n",
              "      background-color: #E2EBFA;\n",
              "      box-shadow: 0px 1px 2px rgba(60, 64, 67, 0.3), 0px 1px 3px 1px rgba(60, 64, 67, 0.15);\n",
              "      fill: #174EA6;\n",
              "    }\n",
              "\n",
              "    [theme=dark] .colab-df-convert {\n",
              "      background-color: #3B4455;\n",
              "      fill: #D2E3FC;\n",
              "    }\n",
              "\n",
              "    [theme=dark] .colab-df-convert:hover {\n",
              "      background-color: #434B5C;\n",
              "      box-shadow: 0px 1px 3px 1px rgba(0, 0, 0, 0.15);\n",
              "      filter: drop-shadow(0px 1px 2px rgba(0, 0, 0, 0.3));\n",
              "      fill: #FFFFFF;\n",
              "    }\n",
              "  </style>\n",
              "\n",
              "      <script>\n",
              "        const buttonEl =\n",
              "          document.querySelector('#df-d9dcbb54-edc9-4477-9dc7-93867e11a9f9 button.colab-df-convert');\n",
              "        buttonEl.style.display =\n",
              "          google.colab.kernel.accessAllowed ? 'block' : 'none';\n",
              "\n",
              "        async function convertToInteractive(key) {\n",
              "          const element = document.querySelector('#df-d9dcbb54-edc9-4477-9dc7-93867e11a9f9');\n",
              "          const dataTable =\n",
              "            await google.colab.kernel.invokeFunction('convertToInteractive',\n",
              "                                                     [key], {});\n",
              "          if (!dataTable) return;\n",
              "\n",
              "          const docLinkHtml = 'Like what you see? Visit the ' +\n",
              "            '<a target=\"_blank\" href=https://colab.research.google.com/notebooks/data_table.ipynb>data table notebook</a>'\n",
              "            + ' to learn more about interactive tables.';\n",
              "          element.innerHTML = '';\n",
              "          dataTable['output_type'] = 'display_data';\n",
              "          await google.colab.output.renderOutput(dataTable, element);\n",
              "          const docLink = document.createElement('div');\n",
              "          docLink.innerHTML = docLinkHtml;\n",
              "          element.appendChild(docLink);\n",
              "        }\n",
              "      </script>\n",
              "    </div>\n",
              "  </div>\n",
              "  "
            ]
          },
          "metadata": {},
          "execution_count": 93
        }
      ]
    },
    {
      "cell_type": "code",
      "source": [
        "# Eveluating results for each configuration\n",
        "evaluating_cols_1 = metric_cols + ['Configuration', 'cell']\n",
        "individual_result_hourly = pd.DataFrame(columns=evaluating_cols_1)\n",
        "ind_eval = []\n",
        "hourly_configurations = final_result_hourly.configuration.unique()\n",
        "cells_eval = final_result_hourly['Cell'].unique()\n",
        "\n",
        "for cell in cells_eval:\n",
        "  temp_cell_df = final_result_hourly[final_result_hourly['Cell']==cell]\n",
        "\n",
        "  for configuration in hourly_configurations:\n",
        "    temp_df = temp_cell_df[temp_cell_df['configuration']==configuration]\n",
        "    temp_eval = timeseries_evaluation_metrics_func(temp_df.y, temp_df.yhat)\n",
        "    temp_eval.append(configuration)\n",
        "    temp_eval.append(cell)\n",
        "    ind_eval.append(temp_eval)\n",
        "\n",
        "individual_result_hourly = pd.concat([individual_result_hourly,\n",
        "                                  pd.DataFrame(ind_eval, columns= evaluating_cols_1)])"
      ],
      "metadata": {
        "id": "X8JO6cbiORKC"
      },
      "execution_count": null,
      "outputs": []
    },
    {
      "cell_type": "markdown",
      "source": [
        "**Note:** After run all desired configurations, pick one that best performed. This one will be used further, in the final solution."
      ],
      "metadata": {
        "id": "5zYj-opd0E_i"
      }
    },
    {
      "cell_type": "code",
      "source": [
        "hourly_prediction = final_result_hourly[final_result_hourly['configuration']=='conf_2'].copy().reset_index(drop=True)\n",
        "hourly_prediction.drop(['configuration'], axis=1, inplace=True)\n",
        "\n",
        "# Calculating daily traffic %\n",
        "hourly_prediction['y%'] = hourly_prediction['y'] / hourly_prediction.groupby(['Cell', 'day'])['y'].transform('sum')"
      ],
      "metadata": {
        "id": "8BQatL9L0E_j"
      },
      "execution_count": null,
      "outputs": []
    },
    {
      "cell_type": "markdown",
      "source": [
        "#### LTE cell traffic  compared to traffic trend modeled"
      ],
      "metadata": {
        "id": "shLVRwk32AQQ"
      }
    },
    {
      "cell_type": "code",
      "source": [
        "example_cell = hourly_prediction[hourly_prediction['Cell']=='cell0012']\n",
        "example_cell = example_cell.head(24*7)\n",
        "\n",
        "plt.plot(example_cell.ds, example_cell['yhat%'], '--', label='Trend')\n",
        "plt.plot(example_cell.ds, example_cell['y%'], label='Real Traffic Proportion')\n",
        "\n",
        "plt.title('Proportional traffic comparison', fontsize=14)\n",
        "plt.xlabel(\"Time\", fontsize=10)\n",
        "plt.ylabel(\"Proportion of daily traffic per hour\", fontsize=10)\n",
        "plt.xticks(rotation=90)\n",
        "plt.legend()\n",
        "plt.grid();"
      ],
      "metadata": {
        "colab": {
          "base_uri": "https://localhost:8080/",
          "height": 398
        },
        "id": "ubR-jtOaLZGD",
        "outputId": "9b56a936-8f98-4bb9-eab5-19ba3692059d"
      },
      "execution_count": null,
      "outputs": [
        {
          "output_type": "display_data",
          "data": {
            "text/plain": [
              "<Figure size 576x360 with 1 Axes>"
            ],
            "image/png": "[encoded data removed]"
          },
          "metadata": {
            "needs_background": "light"
          }
        }
      ]
    },
    {
      "cell_type": "markdown",
      "source": [
        "## IV. LTE Cell Capacity Evaluation"
      ],
      "metadata": {
        "id": "jmU-L6m2l7Z-"
      }
    },
    {
      "cell_type": "markdown",
      "source": [
        "### Espectral efficiency"
      ],
      "metadata": {
        "id": "U5ci8-Qa3kV4"
      }
    },
    {
      "cell_type": "markdown",
      "source": [
        "Each cell has a unique behavior regard to reaching the threshold. This is defined by the spectral efficiency. The authors suggest to evaluate the cells individually and, through linear regression, verify the traffic demand that each cell supports before reaching the PRB utilization threshold."
      ],
      "metadata": {
        "id": "PyKmiDntI6h8"
      }
    },
    {
      "cell_type": "markdown",
      "source": [
        "#### Example of LTE cells with different spectral efficiency"
      ],
      "metadata": {
        "id": "yGjE5Rzk3PvH"
      }
    },
    {
      "cell_type": "code",
      "source": [
        "cell_a, cell_b = 'cell0015', 'cell0020'\n",
        "\n",
        "cell_a_x = df_hourly_train[df_hourly_train['Cell']==cell_a].PRB_Utilization_Percent*100\n",
        "cell_a_y = (df_hourly_train[df_hourly_train['Cell']==cell_a].y)/1024/1024\n",
        "cell_b_x = df_hourly_train[df_hourly_train['Cell']==cell_b].PRB_Utilization_Percent*100\n",
        "cell_b_y = (df_hourly_train[df_hourly_train['Cell']==cell_b].y)/1024/1024\n",
        "\n",
        "plt.plot(cell_a_x, cell_a_y, 'o', mfc='none', label='Cell1', c='k')\n",
        "m, b = np.polyfit(cell_a_x, cell_a_y, 1)\n",
        "plt.plot(cell_a_x, m*cell_a_x+b, c='k')\n",
        "\n",
        "plt.plot(cell_b_x, cell_b_y, '^', mfc='none', label='Cell2', c='g')\n",
        "m, b = np.polyfit(cell_b_x, cell_b_y, 1)\n",
        "plt.plot(cell_b_x, m*cell_b_x+b, c='g')\n",
        "\n",
        "plt.title('Cells with different spectral efficiency', fontsize=14)\n",
        "plt.xlabel(\"Average DL PRB Usage per Cell, %\", fontsize=10)\n",
        "plt.ylabel(\"Downlink traffic volume, GB\", fontsize=10)\n",
        "plt.xticks(rotation=90)\n",
        "plt.legend(title=\"Cell Name\", bbox_to_anchor=(1, 0.5))\n",
        "plt.grid();"
      ],
      "metadata": {
        "colab": {
          "base_uri": "https://localhost:8080/",
          "height": 353
        },
        "id": "ZI9KdME-SOpy",
        "outputId": "c31676ca-a3c2-4422-b1d7-8b7cd9a6b60c"
      },
      "execution_count": null,
      "outputs": [
        {
          "output_type": "display_data",
          "data": {
            "text/plain": [
              "<Figure size 576x360 with 1 Axes>"
            ],
            "image/png": "[encoded data removed]"
          },
          "metadata": {
            "needs_background": "light"
          }
        }
      ]
    },
    {
      "cell_type": "markdown",
      "source": [
        "### Calculation of spectral efficiency for each cell using regression"
      ],
      "metadata": {
        "id": "vtlhj2pYjk8J"
      }
    },
    {
      "cell_type": "code",
      "source": [
        "prb_util_prediction = pd.DataFrame()\n",
        "cell_coefficients = []\n",
        "\n",
        "for cell in list_cells[:]:\n",
        "  df_train_temp = df_hourly_train[df_hourly_train['Cell']==cell].copy()\n",
        "\n",
        "  # Regression between Data Volume and PRB_Utilization_Qty on train dataset\n",
        "  x = df_train_temp['y']\n",
        "  y = df_train_temp['PRB_Util_Qty_True']\n",
        "  var_lin = np.polyfit(x, y, 1) # Getting the coefficients\n",
        "  cell_coefficients.append([cell, var_lin[0], var_lin[1]])\n",
        "\n",
        "  # Calculating PRB usage\n",
        "  df_test_temp = hourly_prediction[hourly_prediction['Cell']==cell].copy()\n",
        "  df_test_temp['PRB_Util_Qty_Pred'] = np.array([var_lin[0]*val+var_lin[1] for val in df_test_temp.yhat])\n",
        "\n",
        "  prb_util_prediction = pd.concat([prb_util_prediction, df_test_temp])\n",
        "\n",
        "prb_util_prediction['PRB_Util_Perc_Pred'] = prb_util_prediction['PRB_Util_Qty_Pred']/prb_util_prediction['PRB_Available_DL']"
      ],
      "metadata": {
        "id": "rctHdsj8gDvW"
      },
      "execution_count": null,
      "outputs": []
    },
    {
      "cell_type": "markdown",
      "source": [
        "### Congestion Threshold"
      ],
      "metadata": {
        "id": "I5l2JIScSadb"
      }
    },
    {
      "cell_type": "markdown",
      "source": [
        "Authors found a strong correlation between the utilization of PRBs (physical resource block) and average user throughput. They suggest that hourly samples that had 20 or fewer unused PRBs were considered congested:\n",
        "\n",
        "> *LTE 800MHz cell with 10MHz bandwidth can be considered as loaded if utilization is 60% or 20 PRB unused, and LTE 1800MHz with 20MHz bandwidth PRB utilization is above 80% (20 PRB left)* - Chmieliauskas & Guršnys, 2020\n",
        "\n",
        "To simplify our calculations, we adopt as congested hourly samples over 70% PRB utilization, as shown below.\n",
        "\n",
        "|Bandwidth (MHz)|PRB Available|Threshold (70% usage)|PRB unused|\n",
        "|:---: |:---: |:---: |:---: |\n",
        "|1,4|\t6\t|4\t|2  |\n",
        "|3\t|15\t|10\t|5  |\n",
        "|5\t|25\t|17\t|8  |\n",
        "|10\t|50\t|35\t|15 |\n",
        "|15\t|75\t|52\t|23 |\n",
        "|20\t|100|70\t|30 |"
      ],
      "metadata": {
        "id": "mobFlCFz1s-M"
      }
    },
    {
      "cell_type": "code",
      "source": [
        "# Calculating congestion samples\n",
        "cong_threshold = 0.6\n",
        "\n",
        "prb_util_prediction['Cong_True'] = prb_util_prediction.PRB_Utilization_Percent >= cong_threshold\n",
        "prb_util_prediction['Cong_Pred'] = prb_util_prediction.PRB_Util_Qty_Pred / prb_util_prediction.PRB_Available_DL >= cong_threshold"
      ],
      "metadata": {
        "id": "ocwIdU2mXG-A"
      },
      "execution_count": null,
      "outputs": []
    },
    {
      "cell_type": "code",
      "source": [
        "# Renaming and organizing columns\n",
        "prb_util_prediction.rename(columns={'yhat':'daily_data_vol_pred',\n",
        "                                    'yhat%': 'daily_data_vol_pred%',\n",
        "                                    'y': 'daily_data_vol_true',\n",
        "                                    'y%': 'daily_data_vol_true%',\n",
        "                                    'PRB_Utilization_Percent': 'PRB_Util_%_True'}, inplace=True)\n",
        "\n",
        "prb_util_prediction['weekend'] = prb_util_prediction['ds'].apply(is_weekend)\n",
        "\n",
        "prb_util_prediction = prb_util_prediction[['Cell', 'day', 'ds', 'weekend', 'daily_data_vol_true',\n",
        "                                           'daily_data_vol_true%', 'daily_data_vol_pred',\n",
        "                                           'daily_data_vol_pred%', 'PRB_Available_DL',\n",
        "                                           'PRB_Util_Qty_True', 'PRB_Util_%_True',\n",
        "                                           'PRB_Util_Qty_Pred', 'PRB_Util_Perc_Pred',\n",
        "                                           'Cong_True', 'Cong_Pred']]"
      ],
      "metadata": {
        "id": "HIi_vm0ztf_P"
      },
      "execution_count": null,
      "outputs": []
    },
    {
      "cell_type": "markdown",
      "source": [
        "### Evaluating"
      ],
      "metadata": {
        "id": "0obrIn853JSe"
      }
    },
    {
      "cell_type": "markdown",
      "source": [
        "The ultimate purpose of this study is to identify the cells that will show the highest congestion sampling. As mentioned before, there are cells that have greater use characteristics on weekdays, such as cells in the city center and others with greater use on weekends, such as cells in residential neighborhoods. As a filter, we will consider as congested the cells that present an average of 1 or more daily samples of congestion, as follows:\n",
        "\n",
        "$\n",
        "Congestioned \\ cell =   \n",
        "  \\begin{cases}\n",
        "    1  & \\quad \\text{for weekdays } n \\text{ cong. samples} \\geq n \\text{ weekdays or}    \\\\\n",
        "    & \\quad \\text{weekends } n \\text{ cong. samples} \\geq n \\text{ weekends}    \\\\\n",
        "    0  & \\quad \\text{otherwise}\n",
        "  \\end{cases}\n",
        "$"
      ],
      "metadata": {
        "id": "GdZx7O6HxwIG"
      }
    },
    {
      "cell_type": "code",
      "source": [
        "pred_congestion_eval = pd.pivot_table(prb_util_prediction, values=['Cong_Pred', 'Cong_True'],\n",
        "                                      index='Cell', columns='weekend', aggfunc='sum')\n",
        "pred_congestion_eval = pred_congestion_eval.droplevel(0, axis=1).reset_index()\n",
        "pred_congestion_eval.columns = ['Cell', 'Cong_pred_weekday','Cong_pred_weekend','Cong_true_weekday','Cong_true_weekend']\n",
        "\n",
        "pred_congestion_eval.head(15)"
      ],
      "metadata": {
        "colab": {
          "base_uri": "https://localhost:8080/",
          "height": 520
        },
        "id": "H69L3wWgBc8j",
        "outputId": "85eee5f5-1442-40a2-db5f-8f7934a0bb5f"
      },
      "execution_count": null,
      "outputs": [
        {
          "output_type": "execute_result",
          "data": {
            "text/plain": [
              "        Cell  Cong_pred_weekday  Cong_pred_weekend  Cong_true_weekday  \\\n",
              "0   cell0001                  0                  0                  0   \n",
              "1   cell0002                  0                  0                  0   \n",
              "2   cell0003                  0                  0                  0   \n",
              "3   cell0004                  0                  0                  0   \n",
              "4   cell0006                  0                  0                  1   \n",
              "5   cell0007                  0                  0                 61   \n",
              "6   cell0008                  0                  0                  6   \n",
              "7   cell0009                  0                  0                  0   \n",
              "8   cell0010                  0                  0                  0   \n",
              "9   cell0011                  0                  0                  1   \n",
              "10  cell0012                 14                  0                 37   \n",
              "11  cell0013                  0                  0                  0   \n",
              "12  cell0014                206                 89                 98   \n",
              "13  cell0015                  0                  1                  0   \n",
              "14  cell0016                  0                  1                  2   \n",
              "\n",
              "    Cong_true_weekend  \n",
              "0                   0  \n",
              "1                   1  \n",
              "2                   0  \n",
              "3                   0  \n",
              "4                   0  \n",
              "5                   0  \n",
              "6                   0  \n",
              "7                   0  \n",
              "8                   0  \n",
              "9                   0  \n",
              "10                 29  \n",
              "11                  0  \n",
              "12                 58  \n",
              "13                  0  \n",
              "14                  0  "
            ],
            "text/html": [
              "\n",
              "  <div id=\"df-bf77dc64-2753-4174-b46b-29a7a931442b\">\n",
              "    <div class=\"colab-df-container\">\n",
              "      <div>\n",
              "<style scoped>\n",
              "    .dataframe tbody tr th:only-of-type {\n",
              "        vertical-align: middle;\n",
              "    }\n",
              "\n",
              "    .dataframe tbody tr th {\n",
              "        vertical-align: top;\n",
              "    }\n",
              "\n",
              "    .dataframe thead th {\n",
              "        text-align: right;\n",
              "    }\n",
              "</style>\n",
              "<table border=\"1\" class=\"dataframe\">\n",
              "  <thead>\n",
              "    <tr style=\"text-align: right;\">\n",
              "      <th></th>\n",
              "      <th>Cell</th>\n",
              "      <th>Cong_pred_weekday</th>\n",
              "      <th>Cong_pred_weekend</th>\n",
              "      <th>Cong_true_weekday</th>\n",
              "      <th>Cong_true_weekend</th>\n",
              "    </tr>\n",
              "  </thead>\n",
              "  <tbody>\n",
              "    <tr>\n",
              "      <th>0</th>\n",
              "      <td>cell0001</td>\n",
              "      <td>0</td>\n",
              "      <td>0</td>\n",
              "      <td>0</td>\n",
              "      <td>0</td>\n",
              "    </tr>\n",
              "    <tr>\n",
              "      <th>1</th>\n",
              "      <td>cell0002</td>\n",
              "      <td>0</td>\n",
              "      <td>0</td>\n",
              "      <td>0</td>\n",
              "      <td>1</td>\n",
              "    </tr>\n",
              "    <tr>\n",
              "      <th>2</th>\n",
              "      <td>cell0003</td>\n",
              "      <td>0</td>\n",
              "      <td>0</td>\n",
              "      <td>0</td>\n",
              "      <td>0</td>\n",
              "    </tr>\n",
              "    <tr>\n",
              "      <th>3</th>\n",
              "      <td>cell0004</td>\n",
              "      <td>0</td>\n",
              "      <td>0</td>\n",
              "      <td>0</td>\n",
              "      <td>0</td>\n",
              "    </tr>\n",
              "    <tr>\n",
              "      <th>4</th>\n",
              "      <td>cell0006</td>\n",
              "      <td>0</td>\n",
              "      <td>0</td>\n",
              "      <td>1</td>\n",
              "      <td>0</td>\n",
              "    </tr>\n",
              "    <tr>\n",
              "      <th>5</th>\n",
              "      <td>cell0007</td>\n",
              "      <td>0</td>\n",
              "      <td>0</td>\n",
              "      <td>61</td>\n",
              "      <td>0</td>\n",
              "    </tr>\n",
              "    <tr>\n",
              "      <th>6</th>\n",
              "      <td>cell0008</td>\n",
              "      <td>0</td>\n",
              "      <td>0</td>\n",
              "      <td>6</td>\n",
              "      <td>0</td>\n",
              "    </tr>\n",
              "    <tr>\n",
              "      <th>7</th>\n",
              "      <td>cell0009</td>\n",
              "      <td>0</td>\n",
              "      <td>0</td>\n",
              "      <td>0</td>\n",
              "      <td>0</td>\n",
              "    </tr>\n",
              "    <tr>\n",
              "      <th>8</th>\n",
              "      <td>cell0010</td>\n",
              "      <td>0</td>\n",
              "      <td>0</td>\n",
              "      <td>0</td>\n",
              "      <td>0</td>\n",
              "    </tr>\n",
              "    <tr>\n",
              "      <th>9</th>\n",
              "      <td>cell0011</td>\n",
              "      <td>0</td>\n",
              "      <td>0</td>\n",
              "      <td>1</td>\n",
              "      <td>0</td>\n",
              "    </tr>\n",
              "    <tr>\n",
              "      <th>10</th>\n",
              "      <td>cell0012</td>\n",
              "      <td>14</td>\n",
              "      <td>0</td>\n",
              "      <td>37</td>\n",
              "      <td>29</td>\n",
              "    </tr>\n",
              "    <tr>\n",
              "      <th>11</th>\n",
              "      <td>cell0013</td>\n",
              "      <td>0</td>\n",
              "      <td>0</td>\n",
              "      <td>0</td>\n",
              "      <td>0</td>\n",
              "    </tr>\n",
              "    <tr>\n",
              "      <th>12</th>\n",
              "      <td>cell0014</td>\n",
              "      <td>206</td>\n",
              "      <td>89</td>\n",
              "      <td>98</td>\n",
              "      <td>58</td>\n",
              "    </tr>\n",
              "    <tr>\n",
              "      <th>13</th>\n",
              "      <td>cell0015</td>\n",
              "      <td>0</td>\n",
              "      <td>1</td>\n",
              "      <td>0</td>\n",
              "      <td>0</td>\n",
              "    </tr>\n",
              "    <tr>\n",
              "      <th>14</th>\n",
              "      <td>cell0016</td>\n",
              "      <td>0</td>\n",
              "      <td>1</td>\n",
              "      <td>2</td>\n",
              "      <td>0</td>\n",
              "    </tr>\n",
              "  </tbody>\n",
              "</table>\n",
              "</div>\n",
              "      <button class=\"colab-df-convert\" onclick=\"convertToInteractive('df-bf77dc64-2753-4174-b46b-29a7a931442b')\"\n",
              "              title=\"Convert this dataframe to an interactive table.\"\n",
              "              style=\"display:none;\">\n",
              "        \n",
              "  <svg xmlns=\"http://www.w3.org/2000/svg\" height=\"24px\"viewBox=\"0 0 24 24\"\n",
              "       width=\"24px\">\n",
              "    <path d=\"M0 0h24v24H0V0z\" fill=\"none\"/>\n",
              "    <path d=\"M18.56 5.44l.94 2.06.94-2.06 2.06-.94-2.06-.94-.94-2.06-.94 2.06-2.06.94zm-11 1L8.5 8.5l.94-2.06 2.06-.94-2.06-.94L8.5 2.5l-.94 2.06-2.06.94zm10 10l.94 2.06.94-2.06 2.06-.94-2.06-.94-.94-2.06-.94 2.06-2.06.94z\"/><path d=\"M17.41 7.96l-1.37-1.37c-.4-.4-.92-.59-1.43-.59-.52 0-1.04.2-1.43.59L10.3 9.45l-7.72 7.72c-.78.78-.78 2.05 0 2.83L4 21.41c.39.39.9.59 1.41.59.51 0 1.02-.2 1.41-.59l7.78-7.78 2.81-2.81c.8-.78.8-2.07 0-2.86zM5.41 20L4 18.59l7.72-7.72 1.47 1.35L5.41 20z\"/>\n",
              "  </svg>\n",
              "      </button>\n",
              "      \n",
              "  <style>\n",
              "    .colab-df-container {\n",
              "      display:flex;\n",
              "      flex-wrap:wrap;\n",
              "      gap: 12px;\n",
              "    }\n",
              "\n",
              "    .colab-df-convert {\n",
              "      background-color: #E8F0FE;\n",
              "      border: none;\n",
              "      border-radius: 50%;\n",
              "      cursor: pointer;\n",
              "      display: none;\n",
              "      fill: #1967D2;\n",
              "      height: 32px;\n",
              "      padding: 0 0 0 0;\n",
              "      width: 32px;\n",
              "    }\n",
              "\n",
              "    .colab-df-convert:hover {\n",
              "      background-color: #E2EBFA;\n",
              "      box-shadow: 0px 1px 2px rgba(60, 64, 67, 0.3), 0px 1px 3px 1px rgba(60, 64, 67, 0.15);\n",
              "      fill: #174EA6;\n",
              "    }\n",
              "\n",
              "    [theme=dark] .colab-df-convert {\n",
              "      background-color: #3B4455;\n",
              "      fill: #D2E3FC;\n",
              "    }\n",
              "\n",
              "    [theme=dark] .colab-df-convert:hover {\n",
              "      background-color: #434B5C;\n",
              "      box-shadow: 0px 1px 3px 1px rgba(0, 0, 0, 0.15);\n",
              "      filter: drop-shadow(0px 1px 2px rgba(0, 0, 0, 0.3));\n",
              "      fill: #FFFFFF;\n",
              "    }\n",
              "  </style>\n",
              "\n",
              "      <script>\n",
              "        const buttonEl =\n",
              "          document.querySelector('#df-bf77dc64-2753-4174-b46b-29a7a931442b button.colab-df-convert');\n",
              "        buttonEl.style.display =\n",
              "          google.colab.kernel.accessAllowed ? 'block' : 'none';\n",
              "\n",
              "        async function convertToInteractive(key) {\n",
              "          const element = document.querySelector('#df-bf77dc64-2753-4174-b46b-29a7a931442b');\n",
              "          const dataTable =\n",
              "            await google.colab.kernel.invokeFunction('convertToInteractive',\n",
              "                                                     [key], {});\n",
              "          if (!dataTable) return;\n",
              "\n",
              "          const docLinkHtml = 'Like what you see? Visit the ' +\n",
              "            '<a target=\"_blank\" href=https://colab.research.google.com/notebooks/data_table.ipynb>data table notebook</a>'\n",
              "            + ' to learn more about interactive tables.';\n",
              "          element.innerHTML = '';\n",
              "          dataTable['output_type'] = 'display_data';\n",
              "          await google.colab.output.renderOutput(dataTable, element);\n",
              "          const docLink = document.createElement('div');\n",
              "          docLink.innerHTML = docLinkHtml;\n",
              "          element.appendChild(docLink);\n",
              "        }\n",
              "      </script>\n",
              "    </div>\n",
              "  </div>\n",
              "  "
            ]
          },
          "metadata": {},
          "execution_count": 113
        }
      ]
    },
    {
      "cell_type": "markdown",
      "source": [
        "## V. Conclusions"
      ],
      "metadata": {
        "id": "kqWMj4wvPnjE"
      }
    },
    {
      "cell_type": "markdown",
      "source": [
        "As stated at the beginning of this study, the main objective of this work is to replicate the work done by D. Chmieliauskas and D. Guršnys in order to make the code available on paperswithcode.com. Some improvements were suggested throughout this work, such as data transformation through box-cox, the utilization of a 1.5-year data history to capture annual seasonality, the differentiation of data between weekdays and weekends to better capture individual cell characteristics, and finally, the use of the sMAPE indicator due to its robustness to outliers. The results obtained in this work were not satisfactory; however, since there was no tuning performed, it is possible to improve them."
      ],
      "metadata": {
        "id": "W0R4TOpTokMh"
      }
    },
    {
      "cell_type": "markdown",
      "source": [
        "---"
      ],
      "metadata": {
        "id": "aLVsj0DCooFd"
      }
    }
  ]
}